{
  "cells": [
    {
      "cell_type": "markdown",
      "metadata": {
        "id": "view-in-github",
        "colab_type": "text"
      },
      "source": [
        "<a href=\"https://colab.research.google.com/github/hectorpena19/Work-Projects/blob/main/train_test_split.ipynb\" target=\"_parent\"><img src=\"https://colab.research.google.com/assets/colab-badge.svg\" alt=\"Open In Colab\"/></a>"
      ]
    },
    {
      "cell_type": "markdown",
      "metadata": {
        "id": "m5_lUZ4rIAiE"
      },
      "source": [
        "## Images"
      ]
    },
    {
      "cell_type": "code",
      "execution_count": null,
      "metadata": {
        "id": "0oFIyGhwIAiI"
      },
      "outputs": [],
      "source": [
        "\n",
        "import os\n",
        "import random\n",
        "import shutil\n",
        "\n",
        "# Set a random seed\n",
        "random.seed(42)\n",
        "\n",
        "# Define the source directories\n",
        "source_dirs = [\n",
        "    r\"C:\\Users\\hector.pena\\Documents\\Images\\images_60584\",\n",
        "    r\"C:\\Users\\hector.pena\\Documents\\Images\\images_prosser\"\n",
        "]\n",
        "\n",
        "# Define the destination directory\n",
        "destination_dir = r\"C:\\Users\\hector.pena\\Documents\\Images\"\n",
        "train_dir = os.path.join(destination_dir, \"train\")\n",
        "test_dir = os.path.join(destination_dir, \"test\")\n",
        "\n",
        "# Create train and test directories if they don't exist\n",
        "os.makedirs(train_dir, exist_ok=True)\n",
        "os.makedirs(test_dir, exist_ok=True)\n",
        "\n",
        "# Loop through each source directory\n",
        "for source_dir in source_dirs:\n",
        "    # Loop through each folder in the source directory\n",
        "    for folder_name in os.listdir(source_dir):\n",
        "        folder_path = os.path.join(source_dir, folder_name)\n",
        "\n",
        "        if os.path.isdir(folder_path):\n",
        "            # List all files in the folder\n",
        "            files = os.listdir(folder_path)\n",
        "\n",
        "            # Shuffle the files to ensure randomness\n",
        "            random.shuffle(files)\n",
        "\n",
        "            # Calculate the number of files for the test set (20%)\n",
        "            test_count = int(len(files) * 0.2)\n",
        "\n",
        "            # Split files into train and test sets\n",
        "            test_files = files[:test_count]\n",
        "            train_files = files[test_count:]\n",
        "\n",
        "            # Copy files to the test directory\n",
        "            for file_name in test_files:\n",
        "                src_file = os.path.join(folder_path, file_name)\n",
        "                dst_file = os.path.join(test_dir, file_name)\n",
        "                shutil.copy(src_file, dst_file)\n",
        "\n",
        "            # Copy files to the train directory\n",
        "            for file_name in train_files:\n",
        "                src_file = os.path.join(folder_path, file_name)\n",
        "                dst_file = os.path.join(train_dir, file_name)\n",
        "                shutil.copy(src_file, dst_file)\n"
      ]
    },
    {
      "cell_type": "markdown",
      "metadata": {
        "id": "86gmFkihIAiK"
      },
      "source": [
        "## Masks"
      ]
    },
    {
      "cell_type": "code",
      "execution_count": null,
      "metadata": {
        "id": "eDLQfAXOIAiL"
      },
      "outputs": [],
      "source": [
        "# Set a random seed\n",
        "random.seed(42)\n",
        "\n",
        "# Define the source directories\n",
        "source_dirs = [\n",
        "    r\"C:\\Users\\hector.pena\\Documents\\Masks\\masks_60584\",\n",
        "    r\"C:\\Users\\hector.pena\\Documents\\Masks\\masks_prosser\"\n",
        "]\n",
        "\n",
        "# Define the destination directory\n",
        "destination_dir = r\"C:\\Users\\hector.pena\\Documents\\Masks\"\n",
        "train_dir = os.path.join(destination_dir, \"train\")\n",
        "test_dir = os.path.join(destination_dir, \"test\")\n",
        "\n",
        "# Create train and test directories if they don't exist\n",
        "os.makedirs(train_dir, exist_ok=True)\n",
        "os.makedirs(test_dir, exist_ok=True)\n",
        "\n",
        "# Loop through each source directory\n",
        "for source_dir in source_dirs:\n",
        "    # Loop through each folder in the source directory\n",
        "    for folder_name in os.listdir(source_dir):\n",
        "        folder_path = os.path.join(source_dir, folder_name)\n",
        "\n",
        "        if os.path.isdir(folder_path):\n",
        "            # List all files in the folder\n",
        "            files = os.listdir(folder_path)\n",
        "\n",
        "            # Shuffle the files to ensure randomness\n",
        "            random.shuffle(files)\n",
        "\n",
        "            # Calculate the number of files for the test set (20%)\n",
        "            test_count = int(len(files) * 0.2)\n",
        "\n",
        "            # Split files into train and test sets\n",
        "            test_files = files[:test_count]\n",
        "            train_files = files[test_count:]\n",
        "\n",
        "            # Copy files to the test directory\n",
        "            for file_name in test_files:\n",
        "                src_file = os.path.join(folder_path, file_name)\n",
        "                dst_file = os.path.join(test_dir, file_name)\n",
        "                shutil.copy(src_file, dst_file)\n",
        "\n",
        "            # Copy files to the train directory\n",
        "            for file_name in train_files:\n",
        "                src_file = os.path.join(folder_path, file_name)\n",
        "                dst_file = os.path.join(train_dir, file_name)\n",
        "                shutil.copy(src_file, dst_file)\n"
      ]
    }
  ],
  "metadata": {
    "kernelspec": {
      "display_name": "Python 3",
      "language": "python",
      "name": "python3"
    },
    "language_info": {
      "codemirror_mode": {
        "name": "ipython",
        "version": 3
      },
      "file_extension": ".py",
      "mimetype": "text/x-python",
      "name": "python",
      "nbconvert_exporter": "python",
      "pygments_lexer": "ipython3",
      "version": "3.12.4"
    },
    "colab": {
      "provenance": [],
      "include_colab_link": true
    }
  },
  "nbformat": 4,
  "nbformat_minor": 0
}